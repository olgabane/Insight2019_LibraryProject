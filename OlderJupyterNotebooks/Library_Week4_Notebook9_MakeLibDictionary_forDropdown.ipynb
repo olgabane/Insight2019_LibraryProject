{
 "cells": [
  {
   "cell_type": "code",
   "execution_count": 3,
   "metadata": {},
   "outputs": [],
   "source": [
    "import pandas as pd\n",
    "import os"
   ]
  },
  {
   "cell_type": "code",
   "execution_count": 4,
   "metadata": {},
   "outputs": [],
   "source": [
    "os.chdir(\"/Users/Olga/Documents/INSIGHT2019/FLASK_Week4Demo_Draft5/Model/\")"
   ]
  },
  {
   "cell_type": "code",
   "execution_count": 63,
   "metadata": {},
   "outputs": [],
   "source": [
    "DF = pd.read_csv(\"FinalDFforFLASK.csv\")"
   ]
  },
  {
   "cell_type": "code",
   "execution_count": 64,
   "metadata": {},
   "outputs": [],
   "source": [
    "Libnamestate_only = DF[['LIBNAMESTATE']]"
   ]
  },
  {
   "cell_type": "code",
   "execution_count": 65,
   "metadata": {},
   "outputs": [],
   "source": [
    "states_list = list()\n",
    "for i in range(Libnamestate_only.shape[0]):\n",
    "    stringg = Libnamestate_only.iloc[i, 0]\n",
    "    state = stringg[-4:]\n",
    "    state = state[-3:]\n",
    "    state = state[0:2]\n",
    "    states_list.append(state)"
   ]
  },
  {
   "cell_type": "code",
   "execution_count": 66,
   "metadata": {},
   "outputs": [
    {
     "name": "stderr",
     "output_type": "stream",
     "text": [
      "//anaconda/envs/py36/lib/python3.6/site-packages/ipykernel_launcher.py:1: SettingWithCopyWarning: \n",
      "A value is trying to be set on a copy of a slice from a DataFrame.\n",
      "Try using .loc[row_indexer,col_indexer] = value instead\n",
      "\n",
      "See the caveats in the documentation: http://pandas.pydata.org/pandas-docs/stable/indexing.html#indexing-view-versus-copy\n",
      "  \"\"\"Entry point for launching an IPython kernel.\n"
     ]
    }
   ],
   "source": [
    "Libnamestate_only['state'] = states_list"
   ]
  },
  {
   "cell_type": "code",
   "execution_count": 97,
   "metadata": {},
   "outputs": [
    {
     "data": {
      "text/plain": [
       "0       AK\n",
       "1       AK\n",
       "2       AK\n",
       "3       AK\n",
       "4       AK\n",
       "5       AK\n",
       "6       AK\n",
       "7       AK\n",
       "8       AK\n",
       "9       AK\n",
       "10      AK\n",
       "11      AK\n",
       "12      AK\n",
       "13      AK\n",
       "14      AK\n",
       "15      AK\n",
       "16      AK\n",
       "17      AK\n",
       "18      AK\n",
       "19      AK\n",
       "20      AK\n",
       "21      AK\n",
       "22      AK\n",
       "23      AK\n",
       "24      AK\n",
       "25      AK\n",
       "26      AK\n",
       "27      AK\n",
       "28      AK\n",
       "29      AK\n",
       "        ..\n",
       "9156    WV\n",
       "9157    WV\n",
       "9158    WV\n",
       "9159    WV\n",
       "9160    WV\n",
       "9161    WV\n",
       "9162    WV\n",
       "9163    WY\n",
       "9164    WY\n",
       "9165    WY\n",
       "9166    WY\n",
       "9167    WY\n",
       "9168    WY\n",
       "9169    WY\n",
       "9170    WY\n",
       "9171    WY\n",
       "9172    WY\n",
       "9173    WY\n",
       "9174    WY\n",
       "9175    WY\n",
       "9176    WY\n",
       "9177    WY\n",
       "9178    WY\n",
       "9179    WY\n",
       "9180    WY\n",
       "9181    WY\n",
       "9182    WY\n",
       "9183    WY\n",
       "9184    WY\n",
       "9185    WY\n",
       "Name: state, Length: 9186, dtype: object"
      ]
     },
     "execution_count": 97,
     "metadata": {},
     "output_type": "execute_result"
    }
   ],
   "source": [
    "States = list(Libnamestate_only['state'])\n",
    "Libnamestate_only['state']"
   ]
  },
  {
   "cell_type": "code",
   "execution_count": 96,
   "metadata": {},
   "outputs": [
    {
     "data": {
      "text/plain": [
       "['AK',\n",
       " 'AL',\n",
       " 'AR',\n",
       " 'AS',\n",
       " 'AZ',\n",
       " 'CA',\n",
       " 'CO',\n",
       " 'CT',\n",
       " 'DC',\n",
       " 'DE',\n",
       " 'FL',\n",
       " 'GA',\n",
       " 'GU',\n",
       " 'HI',\n",
       " 'IA',\n",
       " 'ID',\n",
       " 'IL',\n",
       " 'IN',\n",
       " 'KS',\n",
       " 'KY',\n",
       " 'LA',\n",
       " 'MA',\n",
       " 'MD',\n",
       " 'ME',\n",
       " 'MI',\n",
       " 'MN',\n",
       " 'MO',\n",
       " 'MS',\n",
       " 'MT',\n",
       " 'NC',\n",
       " 'ND',\n",
       " 'NE',\n",
       " 'NH',\n",
       " 'NJ',\n",
       " 'NM',\n",
       " 'NV',\n",
       " 'NY',\n",
       " 'OH',\n",
       " 'OK',\n",
       " 'OR',\n",
       " 'PA',\n",
       " 'RI',\n",
       " 'SC',\n",
       " 'SD',\n",
       " 'TN',\n",
       " 'TX',\n",
       " 'UT',\n",
       " 'VA',\n",
       " 'VT',\n",
       " 'WA',\n",
       " 'WI',\n",
       " 'WV',\n",
       " 'WY']"
      ]
     },
     "execution_count": 96,
     "metadata": {},
     "output_type": "execute_result"
    }
   ],
   "source": [
    "list(Libnamestate_only['state'].unique())"
   ]
  },
  {
   "cell_type": "code",
   "execution_count": 80,
   "metadata": {},
   "outputs": [],
   "source": [
    "States = list(Libnamestate_only['state'])\n",
    "States =  list(set(States))"
   ]
  },
  {
   "cell_type": "code",
   "execution_count": 98,
   "metadata": {},
   "outputs": [],
   "source": [
    "Libnamestate_only\n",
    "\n",
    "\n",
    "Libnamestate_only.to_csv(path_or_buf = \"/Users/Olga/Documents/INSIGHT2019/FLASK_Week4Demo_Draft5/Model/Libnamestate_only.csv\", index = False)\n"
   ]
  },
  {
   "cell_type": "code",
   "execution_count": 54,
   "metadata": {},
   "outputs": [],
   "source": [
    "#state_lib_dict = dict()\n",
    "dct = {}\n",
    "for stateabr in set(states_list):\n",
    "    dct['%s' % stateabr] = list()\n",
    "    for i in range(Libnamesate_only.shape[0]):\n",
    "        if Libnamesate_only.loc[i, 'state'] == stateabr:\n",
    "            dct['%s' % stateabr].append(Libnamesate_only.loc[i, 'LIBNAMESTATE'])\n",
    "    \n",
    "    \n",
    "    "
   ]
  },
  {
   "cell_type": "code",
   "execution_count": 58,
   "metadata": {},
   "outputs": [],
   "source": [
    "import pickle\n",
    "\n",
    "os.chdir(\"/Users/Olga/Documents/INSIGHT2019/FLASK_Week4Demo_Draft5/Model/\")\n",
    "pickle.dump(dct, open( \"statelibdict.pkl\", \"wb\" ) )"
   ]
  },
  {
   "cell_type": "code",
   "execution_count": 62,
   "metadata": {},
   "outputs": [
    {
     "data": {
      "text/plain": [
       "['FALLON COUNTY LIBRARY (MT)',\n",
       " 'BELGRADE COMMUNITY LIBRARY (MT)',\n",
       " 'CARNEGIE PUBLIC LIBRARY (MT)',\n",
       " 'BILLINGS PUBLIC LIBRARY (MT)',\n",
       " 'BOULDER COMMUNITY LIBRARY (MT)',\n",
       " 'BOZEMAN PUBLIC LIBRARY (MT)',\n",
       " 'BRIDGER PUBLIC LIBRARY (MT)',\n",
       " 'HENRY A MALLEY MEMORIAL LIBRARY (MT)',\n",
       " 'BUTTE-SILVER BOW PUBLIC LIBRARY (MT)',\n",
       " 'WEDSWORTH MEMORIAL LIBRARY (MT)',\n",
       " 'LIBERTY COUNTY LIBRARY (MT)',\n",
       " 'BLAINE COUNTY LIBRARY (MT)',\n",
       " 'CHOTEAU/TETON PUBLIC LIBRARY (MT)',\n",
       " 'GEORGE MCCONE MEMORIAL COUNTY LIBRARY (MT)',\n",
       " 'STILLWATER COUNTY LIBRARY (MT)',\n",
       " 'CONRAD PUBLIC LIBRARY (MT)',\n",
       " 'GLACIER COUNTY LIBRARY (MT)',\n",
       " 'DARBY COMMUNITY PUBLIC LIBRARY (MT)',\n",
       " 'WILLIAM K. KOHRS MEMORIAL LIBRARY (MT)',\n",
       " 'DENTON PUBLIC LIBRARY (MT)',\n",
       " 'DILLON PUBLIC LIBRARY (MT)',\n",
       " 'DRUMMOND SCHOOL & COMMUNITY LIBRARY (MT)',\n",
       " 'DUTTON/TETON PUBLIC LIBRARY (MT)',\n",
       " 'EKALAKA PUBLIC LIBRARY (MT)',\n",
       " 'FAIRFIELD/TETON PUBLIC LIBRARY (MT)',\n",
       " 'ROSEBUD COUNTY LIBRARY (MT)',\n",
       " 'CHOUTEAU COUNTY LIBRARY (MT)',\n",
       " 'GLASGOW CITY-COUNTY LIBRARY (MT)',\n",
       " 'GLENDIVE PUBLIC LIBRARY (MT)',\n",
       " 'GREAT FALLS PUBLIC LIBRARY (MT)',\n",
       " 'BITTERROOT PUBLIC LIBRARY (MT)',\n",
       " 'BIG HORN COUNTY PUBLIC LIBRARY (MT)',\n",
       " 'HARLEM PUBLIC LIBRARY (MT)',\n",
       " 'HARLOWTON PUBLIC LIBRARY (MT)',\n",
       " 'HAVRE-HILL COUNTY LIBRARY (MT)',\n",
       " 'LEWIS AND CLARK LIBRARY (MT)',\n",
       " 'PRESTON HOT SPRINGS TOWN-COUNTY LIBRARY (MT)',\n",
       " 'GARFIELD COUNTY LIBRARY (MT)',\n",
       " 'IMAGINEIF KALISPELL (MT)',\n",
       " 'LAUREL PUBLIC LIBRARY (MT)',\n",
       " 'LEWISTOWN PUBLIC LIBRARY (MT)',\n",
       " 'LINCOLN COUNTY PUBLIC LIBRARIES (MT)',\n",
       " 'LIVINGSTON-PARK COUNTY PUBLIC LIBRARY (MT)',\n",
       " 'PHILLIPS COUNTY LIBRARY (MT)',\n",
       " 'MANHATTAN COMMUNITY SCHOOL LIBRARY (MT)',\n",
       " 'MILES CITY PUBLIC LIBRARY (MT)',\n",
       " 'MISSOULA PUBLIC LIBRARY (MT)',\n",
       " 'MOORE MEMORIAL  PUBLIC LIBRARY (MT)',\n",
       " 'PHILIPSBURG PUBLIC LIBRARY (MT)',\n",
       " 'PLAINS PUBLIC LIBRARY DISTRICT (MT)',\n",
       " 'SHERIDAN COUNTY LIBRARY (MT)',\n",
       " 'NORTH LAKE COUNTY PUBLIC LIBRARY (MT)',\n",
       " 'RED LODGE CARNEGIE LIBRARY (MT)',\n",
       " 'RONAN LIBRARY DISTRICT (MT)',\n",
       " 'ROUNDUP SCHOOL-COMMUNITY LIBRARY (MT)',\n",
       " 'ST IGNATIUS SCHOOL-COMMUNITY LIBRARY (MT)',\n",
       " 'DANIELS COUNTY LIBRARY (MT)',\n",
       " 'TOOLE COUNTY LIBRARY (MT)',\n",
       " 'SHERIDAN PUBLIC LIBRARY (MT)',\n",
       " 'SIDNEY-RICHLAND COUNTY LIBRARY (MT)',\n",
       " 'JUDITH BASIN COUNTY FREE LIBRARY (MT)',\n",
       " 'NORTH VALLEY PUBLIC LIBRARY (MT)',\n",
       " 'MINERAL COUNTY PUBLIC LIBRARY (MT)',\n",
       " 'PRAIRIE COUNTY LIBRARY (MT)',\n",
       " 'THOMPSON FALLS PUBLIC LIBRARY (MT)',\n",
       " 'THREE FORKS COMMUNITY LIBRARY (MT)',\n",
       " 'BROADWATER SCHOOL AND COMMUNITY LIBRARY (MT)',\n",
       " 'TWIN BRIDGES PUBLIC LIBRARY (MT)',\n",
       " 'VALIER PUBLIC LIBRARY (MT)',\n",
       " 'THOMPSON-HICKMAN MADISON COUNTY LIBRARY (MT)',\n",
       " 'WEST YELLOWSTONE PUBLIC LIBRARY (MT)',\n",
       " 'MEAGHER COUNTY/CITY LIBRARY (MT)',\n",
       " 'WIBAUX PUBLIC LIBRARY (MT)',\n",
       " 'PETROLEUM COUNTY SCHOOL-COMMUNITY LIBRARY (MT)',\n",
       " 'ROOSEVELT COUNTY LIBRARY (MT)',\n",
       " 'BELT PUBLIC LIBRARY (MT)',\n",
       " 'JOLIET PUBLIC LIBRARY (MT)',\n",
       " 'HEARST FREE LIBRARY (MT)',\n",
       " 'DOROTHY ASBJORNSON COMMUNITY LIBRARY (MT)',\n",
       " 'NORTH JEFFERSON COUNTY LIBRARY DISTRICT CLANCY LIBRARY (MT)',\n",
       " 'WHITEFISH COMMUNITY LIBRARY (MT)']"
      ]
     },
     "execution_count": 62,
     "metadata": {},
     "output_type": "execute_result"
    }
   ],
   "source": [
    "dct['MT']"
   ]
  },
  {
   "cell_type": "code",
   "execution_count": null,
   "metadata": {},
   "outputs": [],
   "source": []
  }
 ],
 "metadata": {
  "kernelspec": {
   "display_name": "Python 3",
   "language": "python",
   "name": "python3"
  },
  "language_info": {
   "codemirror_mode": {
    "name": "ipython",
    "version": 3
   },
   "file_extension": ".py",
   "mimetype": "text/x-python",
   "name": "python",
   "nbconvert_exporter": "python",
   "pygments_lexer": "ipython3",
   "version": "3.6.5"
  }
 },
 "nbformat": 4,
 "nbformat_minor": 2
}
